{
 "cells": [
  {
   "cell_type": "code",
   "execution_count": 3,
   "id": "f386eaa9",
   "metadata": {},
   "outputs": [],
   "source": [
    "# ÇALISMA ÜZERINDE KULLANILACAK KUTUPHANELERI DAHIL EDELIM.\n",
    "import pandas as pd\n",
    "import matplotlib.pyplot as plt\n",
    "import numpy as np"
   ]
  },
  {
   "cell_type": "code",
   "execution_count": 4,
   "id": "9456002c",
   "metadata": {},
   "outputs": [],
   "source": [
    "# ILGILI VERI SETINI CALISMAMIZA DAHIL EDELIM.\n",
    "Weather_Data = pd.read_csv(\"C:\\Anaconda\\DataWeather.csv\") "
   ]
  },
  {
   "cell_type": "code",
   "execution_count": 5,
   "id": "cefe9ac8",
   "metadata": {},
   "outputs": [
    {
     "data": {
      "text/html": [
       "<div>\n",
       "<style scoped>\n",
       "    .dataframe tbody tr th:only-of-type {\n",
       "        vertical-align: middle;\n",
       "    }\n",
       "\n",
       "    .dataframe tbody tr th {\n",
       "        vertical-align: top;\n",
       "    }\n",
       "\n",
       "    .dataframe thead th {\n",
       "        text-align: right;\n",
       "    }\n",
       "</style>\n",
       "<table border=\"1\" class=\"dataframe\">\n",
       "  <thead>\n",
       "    <tr style=\"text-align: right;\">\n",
       "      <th></th>\n",
       "      <th>Temperature (C)</th>\n",
       "      <th>Wind Speed (km/h)</th>\n",
       "      <th>Pressure (millibars)</th>\n",
       "      <th>Humidity</th>\n",
       "    </tr>\n",
       "  </thead>\n",
       "  <tbody>\n",
       "    <tr>\n",
       "      <th>0</th>\n",
       "      <td>17.800000</td>\n",
       "      <td>20.0445</td>\n",
       "      <td>1008.36</td>\n",
       "      <td>0.50</td>\n",
       "    </tr>\n",
       "    <tr>\n",
       "      <th>1</th>\n",
       "      <td>16.061111</td>\n",
       "      <td>21.3969</td>\n",
       "      <td>1008.11</td>\n",
       "      <td>0.53</td>\n",
       "    </tr>\n",
       "    <tr>\n",
       "      <th>2</th>\n",
       "      <td>15.022222</td>\n",
       "      <td>21.3808</td>\n",
       "      <td>1008.15</td>\n",
       "      <td>0.55</td>\n",
       "    </tr>\n",
       "    <tr>\n",
       "      <th>3</th>\n",
       "      <td>14.422222</td>\n",
       "      <td>20.0123</td>\n",
       "      <td>1007.85</td>\n",
       "      <td>0.58</td>\n",
       "    </tr>\n",
       "    <tr>\n",
       "      <th>4</th>\n",
       "      <td>8.755556</td>\n",
       "      <td>11.0446</td>\n",
       "      <td>1016.51</td>\n",
       "      <td>0.83</td>\n",
       "    </tr>\n",
       "    <tr>\n",
       "      <th>...</th>\n",
       "      <td>...</td>\n",
       "      <td>...</td>\n",
       "      <td>...</td>\n",
       "      <td>...</td>\n",
       "    </tr>\n",
       "    <tr>\n",
       "      <th>60</th>\n",
       "      <td>10.422222</td>\n",
       "      <td>16.9855</td>\n",
       "      <td>1014.40</td>\n",
       "      <td>0.62</td>\n",
       "    </tr>\n",
       "    <tr>\n",
       "      <th>61</th>\n",
       "      <td>9.377778</td>\n",
       "      <td>3.9284</td>\n",
       "      <td>1015.94</td>\n",
       "      <td>0.89</td>\n",
       "    </tr>\n",
       "    <tr>\n",
       "      <th>62</th>\n",
       "      <td>8.288889</td>\n",
       "      <td>14.1036</td>\n",
       "      <td>1016.41</td>\n",
       "      <td>0.83</td>\n",
       "    </tr>\n",
       "    <tr>\n",
       "      <th>63</th>\n",
       "      <td>8.755556</td>\n",
       "      <td>11.0446</td>\n",
       "      <td>1016.51</td>\n",
       "      <td>0.83</td>\n",
       "    </tr>\n",
       "    <tr>\n",
       "      <th>64</th>\n",
       "      <td>9.222222</td>\n",
       "      <td>13.9587</td>\n",
       "      <td>1016.66</td>\n",
       "      <td>0.85</td>\n",
       "    </tr>\n",
       "  </tbody>\n",
       "</table>\n",
       "<p>65 rows × 4 columns</p>\n",
       "</div>"
      ],
      "text/plain": [
       "    Temperature (C)  Wind Speed (km/h)  Pressure (millibars)  Humidity\n",
       "0         17.800000            20.0445               1008.36      0.50\n",
       "1         16.061111            21.3969               1008.11      0.53\n",
       "2         15.022222            21.3808               1008.15      0.55\n",
       "3         14.422222            20.0123               1007.85      0.58\n",
       "4          8.755556            11.0446               1016.51      0.83\n",
       "..              ...                ...                   ...       ...\n",
       "60        10.422222            16.9855               1014.40      0.62\n",
       "61         9.377778             3.9284               1015.94      0.89\n",
       "62         8.288889            14.1036               1016.41      0.83\n",
       "63         8.755556            11.0446               1016.51      0.83\n",
       "64         9.222222            13.9587               1016.66      0.85\n",
       "\n",
       "[65 rows x 4 columns]"
      ]
     },
     "execution_count": 5,
     "metadata": {},
     "output_type": "execute_result"
    }
   ],
   "source": [
    "# VERI SETIMIZIN ONIZLEMESINI GERCEKLESTIRELIM.\n",
    "Weather_Data"
   ]
  },
  {
   "cell_type": "code",
   "execution_count": 6,
   "id": "d84463c5",
   "metadata": {},
   "outputs": [],
   "source": [
    "# POTANSIYEL GIRDILERIMIZI BELIRLEYELIM.\n",
    "Weather_Features = ['Temperature (C)', 'Wind Speed (km/h)', 'Pressure (millibars)']"
   ]
  },
  {
   "cell_type": "code",
   "execution_count": 7,
   "id": "e539e00a",
   "metadata": {},
   "outputs": [
    {
     "data": {
      "text/plain": [
       "['Temperature (C)', 'Wind Speed (km/h)', 'Pressure (millibars)']"
      ]
     },
     "execution_count": 7,
     "metadata": {},
     "output_type": "execute_result"
    }
   ],
   "source": [
    "# GIRDILERIMIZI ONIZLEMESINI GERCEKLESTIRELIM.\n",
    "Weather_Features"
   ]
  },
  {
   "cell_type": "code",
   "execution_count": 8,
   "id": "be5be4ca",
   "metadata": {},
   "outputs": [],
   "source": [
    "# VERI ALANLARIMIZI WEATHER DATA VERI SETI ILE OZDESLESTIRELIM.\n",
    "X = Weather_Data[Weather_Features]"
   ]
  },
  {
   "cell_type": "code",
   "execution_count": 9,
   "id": "d680588e",
   "metadata": {},
   "outputs": [],
   "source": [
    "# WEATHER DATA VERI SETINDEKI HUMIDITY (NEM) PARAMETRESINI y DEGERINE ATAYALIM.\n",
    "y = Weather_Data.Humidity"
   ]
  },
  {
   "cell_type": "code",
   "execution_count": 10,
   "id": "92e0d2e1",
   "metadata": {},
   "outputs": [
    {
     "data": {
      "text/plain": [
       "<matplotlib.collections.PathCollection at 0x2b65e5f0070>"
      ]
     },
     "execution_count": 10,
     "metadata": {},
     "output_type": "execute_result"
    },
    {
     "data": {
      "image/png": "[encoded data removed]",
      "text/plain": [
       "<Figure size 432x288 with 3 Axes>"
      ]
     },
     "metadata": {
      "needs_background": "light"
     },
     "output_type": "display_data"
    }
   ],
   "source": [
    "# PARAMETRIK DEGERLERIMIZI GORSELLESTIRELIM.\n",
    "plt.subplot(2,2,1)\n",
    "plt.scatter(X['Temperature (C)'],y)\n",
    "plt.subplot(2,2,2)\n",
    "plt.scatter(X['Wind Speed (km/h)'],y)\n",
    "plt.subplot(2,2,3)\n",
    "plt.scatter(X['Pressure (millibars)'],y)"
   ]
  },
  {
   "cell_type": "code",
   "execution_count": 11,
   "id": "b6a5569b",
   "metadata": {},
   "outputs": [],
   "source": [
    "# UC BOYUTLU GRAFIK OLUSTURMAK ICIN BIR PARAMETREMIZI (BASINC) INAKTIF ETMEMIZ GEREKMEKTEDIR.\n",
    "# UST GRAFIKTE YER ALAN, BASINC DAGILIM GRAFIĞI TUTARSIZLIK SERGILEMEKTEDIR. (DIGER PARAMETRELERE GORE.) \n",
    "X = X.drop(\"Pressure (millibars)\", 1)"
   ]
  },
  {
   "cell_type": "code",
   "execution_count": 12,
   "id": "c28650f7",
   "metadata": {},
   "outputs": [
    {
     "data": {
      "text/plain": [
       "Text(0.5, 0, 'Humidity-Nem')"
      ]
     },
     "execution_count": 12,
     "metadata": {},
     "output_type": "execute_result"
    },
    {
     "data": {
      "image/png": "[encoded data removed]",
      "text/plain": [
       "<Figure size 432x288 with 1 Axes>"
      ]
     },
     "metadata": {
      "needs_background": "light"
     },
     "output_type": "display_data"
    }
   ],
   "source": [
    "# UC BOYUTLU CIZIM OLUSTURALIM.\n",
    "# BUNUN ICIN 3D plot KUTUPHANESINI ICERI AKTARALIM VE PARAMETRELERIMIZ ILE CIZIM OLUSTURALIM.\n",
    "# BURADA Pressure - BASINC PARAMETRESI GOZ ARDI EDILDI.TEST ADINA DIGER PARAMETRELER GOZ ARDI EDILEBILIR.\n",
    "from mpl_toolkits.mplot3d import Axes3D\n",
    "fig = plt.figure()\n",
    "ax = fig.add_subplot(111, projection='3d')\n",
    "x1 = X[\"Temperature (C)\"]\n",
    "x2 = X[\"Wind Speed (km/h)\"]\n",
    "ax.scatter(x1, x2, y, c='r', marker='o')\n",
    "\n",
    "ax.set_xlabel('Temperature-Sıcaklık (C)')\n",
    "ax.set_ylabel('Wind Speed-Ruzgar Hızı (km/h)')\n",
    "ax.set_zlabel('Humidity-Nem')"
   ]
  },
  {
   "cell_type": "code",
   "execution_count": 13,
   "id": "9a072cb8",
   "metadata": {},
   "outputs": [
    {
     "data": {
      "text/plain": [
       "LinearRegression()"
      ]
     },
     "execution_count": 13,
     "metadata": {},
     "output_type": "execute_result"
    }
   ],
   "source": [
    "# REGRESYON ANALIZI ICIN KUTUPHANEMIZI CALISMAMIZA DAHIL EDELIM.\n",
    "# mlr_model'IMIZI REGRESYON MODELI OLARAK TANIMLAYALIM.\n",
    "# SON OLARAK MODELIMIZI YAPIMIZA UYDURUYORUZ.(ADAPTE) - fit(X,y): fitting\n",
    "from sklearn.linear_model import LinearRegression\n",
    "mlr_model = LinearRegression()\n",
    "mlr_model.fit(X, y)"
   ]
  },
  {
   "cell_type": "code",
   "execution_count": 14,
   "id": "0ac3fb3f",
   "metadata": {},
   "outputs": [
    {
     "data": {
      "text/plain": [
       "(1.1147685743465692, -0.027969555306757033, -0.005605808998657342)"
      ]
     },
     "execution_count": 14,
     "metadata": {},
     "output_type": "execute_result"
    }
   ],
   "source": [
    "# ILGILI PARAMETRELERIMIZI REGRESYON FORMULAZASYONU ICIN UYARLAYALIM.\n",
    "# theta0 = intercept value = KESISIMIN DEGERI.\n",
    "# theta1 - theta2 = REGRESSION COEFFICIENTS = REGRESYON KATSAYILARI\n",
    "theta0 = mlr_model.intercept_\n",
    "theta1, theta2 = mlr_model.coef_\n",
    "theta0, theta1, theta2"
   ]
  },
  {
   "cell_type": "code",
   "execution_count": 15,
   "id": "5581e3f5",
   "metadata": {},
   "outputs": [
    {
     "data": {
      "text/plain": [
       "array([0.52162363])"
      ]
     },
     "execution_count": 15,
     "metadata": {},
     "output_type": "execute_result"
    }
   ],
   "source": [
    "# PARAMETRELERIMIZI YAPILANDIRDIKTAN SONRA HERHANGI BIR GIRILECEK DEGER ICIN TAHMIN YAPALIM.\n",
    "# ORNEGIN; 18,16\n",
    "y_pred = mlr_model.predict([[18, 16]])\n",
    "y_pred"
   ]
  },
  {
   "cell_type": "code",
   "execution_count": null,
   "id": "f07d6bb9",
   "metadata": {},
   "outputs": [],
   "source": []
  }
 ],
 "metadata": {
  "kernelspec": {
   "display_name": "Python 3",
   "language": "python",
   "name": "python3"
  },
  "language_info": {
   "codemirror_mode": {
    "name": "ipython",
    "version": 3
   },
   "file_extension": ".py",
   "mimetype": "text/x-python",
   "name": "python",
   "nbconvert_exporter": "python",
   "pygments_lexer": "ipython3",
   "version": "3.8.8"
  }
 },
 "nbformat": 4,
 "nbformat_minor": 5
}
